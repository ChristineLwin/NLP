{
  "nbformat": 4,
  "nbformat_minor": 0,
  "metadata": {
    "colab": {
      "provenance": []
    },
    "kernelspec": {
      "name": "python3",
      "display_name": "Python 3"
    },
    "language_info": {
      "name": "python"
    },
    "accelerator": "GPU",
    "gpuClass": "standard"
  },
  "cells": [
    {
      "cell_type": "code",
      "execution_count": 1,
      "metadata": {
        "id": "MEVxfbz5-Wo8"
      },
      "outputs": [],
      "source": [
        "import pandas as pd\n",
        "import re\n",
        "import numpy as np\n",
        "\n",
        "from nltk.corpus import stopwords\n",
        "import nltk\n",
        "\n",
        "from sklearn.model_selection import train_test_split\n",
        "from keras.preprocessing.text import Tokenizer\n",
        "from keras_preprocessing.sequence import pad_sequences \n",
        "\n",
        "import tensorflow as tf"
      ]
    },
    {
      "cell_type": "markdown",
      "source": [
        "# New Section"
      ],
      "metadata": {
        "id": "wuJ9_Tbx_QX2"
      }
    },
    {
      "cell_type": "code",
      "source": [
        "df = pd.read_csv('tripadvisor_hotel_reviews.csv',engine='python')"
      ],
      "metadata": {
        "id": "yDsEjeB6_Wog"
      },
      "execution_count": 2,
      "outputs": []
    },
    {
      "cell_type": "code",
      "source": [
        "df.shape"
      ],
      "metadata": {
        "colab": {
          "base_uri": "https://localhost:8080/"
        },
        "id": "WFK2pSj6_h9Y",
        "outputId": "22d2144e-8970-4953-b25e-e31b2c978cd4"
      },
      "execution_count": 3,
      "outputs": [
        {
          "output_type": "execute_result",
          "data": {
            "text/plain": [
              "(20491, 2)"
            ]
          },
          "metadata": {},
          "execution_count": 3
        }
      ]
    },
    {
      "cell_type": "code",
      "source": [
        "nltk.download('stopwords')\n",
        "stop_words = stopwords.words('english')"
      ],
      "metadata": {
        "colab": {
          "base_uri": "https://localhost:8080/"
        },
        "id": "TGnLPWMC_iJk",
        "outputId": "c7840294-9dad-4b57-e621-1bedc0614b3c"
      },
      "execution_count": 4,
      "outputs": [
        {
          "output_type": "stream",
          "name": "stderr",
          "text": [
            "[nltk_data] Downloading package stopwords to /root/nltk_data...\n",
            "[nltk_data]   Unzipping corpora/stopwords.zip.\n"
          ]
        }
      ]
    },
    {
      "cell_type": "markdown",
      "source": [
        "Preprocessing Review Text\n",
        "\n",
        "\n",
        "*   remove integer values\n",
        "*   breakdown to words by space delimiter \n",
        "*   remove stopwords\n",
        "\n"
      ],
      "metadata": {
        "id": "xyG4qOqXDx3Y"
      }
    },
    {
      "cell_type": "code",
      "source": [
        "def preprocess(text):\n",
        "    text = re.sub(r'\\d+',' ',text)\n",
        "    text = text.split()\n",
        "    text = ' '.join([w for w in text if not w.lower().strip() in stop_words])\n",
        "    return text"
      ],
      "metadata": {
        "id": "RdOPcyBgB42Y"
      },
      "execution_count": 5,
      "outputs": []
    },
    {
      "cell_type": "code",
      "source": [
        "reviews = df['Review'].apply(preprocess)"
      ],
      "metadata": {
        "id": "dPrQ7r1TB_CM"
      },
      "execution_count": 6,
      "outputs": []
    },
    {
      "cell_type": "code",
      "source": [
        "NWORDS = 30000\n",
        "tknz = Tokenizer(num_words=NWORDS)\n",
        "tknz.fit_on_texts(reviews)\n",
        "\n",
        "reviews_seq = tknz.texts_to_sequences(reviews)"
      ],
      "metadata": {
        "id": "jmFqf0pFCGJV"
      },
      "execution_count": 7,
      "outputs": []
    },
    {
      "cell_type": "code",
      "source": [
        "len(tknz.word_counts)"
      ],
      "metadata": {
        "colab": {
          "base_uri": "https://localhost:8080/"
        },
        "id": "LO-zvBxUCJM5",
        "outputId": "f5d23851-9a59-466c-8737-8bc8b87bdbb0"
      },
      "execution_count": 8,
      "outputs": [
        {
          "output_type": "execute_result",
          "data": {
            "text/plain": [
              "49535"
            ]
          },
          "metadata": {},
          "execution_count": 8
        }
      ]
    },
    {
      "cell_type": "code",
      "source": [
        "MAX_SEQ_LEN =np.max(list(map(lambda x: len(x), reviews_seq)))"
      ],
      "metadata": {
        "id": "vEtSHRoZCVGh"
      },
      "execution_count": 9,
      "outputs": []
    },
    {
      "cell_type": "code",
      "source": [
        "pad_reviews_seq = pad_sequences(reviews_seq,maxlen = MAX_SEQ_LEN, padding='post')\n",
        "pad_reviews_seq"
      ],
      "metadata": {
        "colab": {
          "base_uri": "https://localhost:8080/"
        },
        "id": "6tlsyKbBCdU2",
        "outputId": "30aedb2b-91c2-4517-ea80-dda27611404b"
      },
      "execution_count": 10,
      "outputs": [
        {
          "output_type": "execute_result",
          "data": {
            "text/plain": [
              "array([[   8,    1,  174, ...,    0,    0,    0],\n",
              "       [ 139,  136,  262, ...,    0,    0,    0],\n",
              "       [   8,    9,   76, ...,    0,    0,    0],\n",
              "       ...,\n",
              "       [ 139,  733,    8, ...,    0,    0,    0],\n",
              "       [   1, 3785, 2479, ...,    0,    0,    0],\n",
              "       [  27, 1156,  187, ...,    0,    0,    0]], dtype=int32)"
            ]
          },
          "metadata": {},
          "execution_count": 10
        }
      ]
    },
    {
      "cell_type": "code",
      "source": [
        "df['Rating'].value_counts()"
      ],
      "metadata": {
        "colab": {
          "base_uri": "https://localhost:8080/"
        },
        "id": "RyiQzSPtCgyX",
        "outputId": "4faaac6d-aa61-467a-b4d6-77d5312b4c48"
      },
      "execution_count": 11,
      "outputs": [
        {
          "output_type": "execute_result",
          "data": {
            "text/plain": [
              "5    9054\n",
              "4    6039\n",
              "3    2184\n",
              "2    1793\n",
              "1    1421\n",
              "Name: Rating, dtype: int64"
            ]
          },
          "metadata": {},
          "execution_count": 11
        }
      ]
    },
    {
      "cell_type": "markdown",
      "source": [
        "Label Review Rating\n",
        "\n",
        "\n",
        "*   0 if rating is not 1 or 2 or 3\n",
        "*   1 if rating is 4 or 5\n",
        "\n"
      ],
      "metadata": {
        "id": "-3MTxyJmFH9D"
      }
    },
    {
      "cell_type": "code",
      "source": [
        "labels = np.array(df['Rating'].apply(lambda x: 1 if x > 3 else 0))\n",
        "labels"
      ],
      "metadata": {
        "colab": {
          "base_uri": "https://localhost:8080/"
        },
        "id": "MrI4E-caCk9_",
        "outputId": "d02224e1-2d27-4174-9fb2-2d639d149d41"
      },
      "execution_count": 12,
      "outputs": [
        {
          "output_type": "execute_result",
          "data": {
            "text/plain": [
              "array([1, 0, 0, ..., 0, 0, 0])"
            ]
          },
          "metadata": {},
          "execution_count": 12
        }
      ]
    },
    {
      "cell_type": "code",
      "source": [
        "X_train, X_test, y_train, y_test = train_test_split(pad_reviews_seq,labels,test_size=0.2, random_state=12)"
      ],
      "metadata": {
        "id": "ya28sQU_CnZI"
      },
      "execution_count": 13,
      "outputs": []
    },
    {
      "cell_type": "markdown",
      "source": [
        "Build Model\n",
        "\n",
        "\n",
        "*   Bidirectional RNN (BRNN) - two RNNs are used - one for forward (t = from 1 to N)and the other for backward (t = from N to 1)\n",
        "*   Gated Recurrent Unit (GRU) -\n",
        "\n"
      ],
      "metadata": {
        "id": "zvv82MqtHWkI"
      }
    },
    {
      "cell_type": "code",
      "source": [
        "embedding_dim = 128\n",
        "\n",
        "inputs = tf.keras.Input(shape=(MAX_SEQ_LEN,))\n",
        "embedding = tf.keras.layers.Embedding(\n",
        "    input_dim=NWORDS, output_dim=embedding_dim, input_length=MAX_SEQ_LEN\n",
        ")(inputs)\n",
        "\n",
        "gru = tf.keras.layers.Bidirectional(\n",
        "    tf.keras.layers.GRU(128,return_sequences=True)\n",
        ")(embedding)\n",
        "flatten = tf.keras.layers.Flatten()(gru)\n",
        "\n",
        "outputs = tf.keras.layers.Dense(1,activation='sigmoid')(flatten)\n",
        "\n",
        "model = tf.keras.Model(inputs,outputs)\n",
        "\n",
        "tf.keras.utils.plot_model(model)"
      ],
      "metadata": {
        "colab": {
          "base_uri": "https://localhost:8080/",
          "height": 466
        },
        "id": "WUqjUX9tCs7h",
        "outputId": "4861c0b4-d84d-4f5b-d252-c7c0a9d1e024"
      },
      "execution_count": 14,
      "outputs": [
        {
          "output_type": "execute_result",
          "data": {
            "image/png": "[encoded data removed]",
            "text/plain": [
              "<IPython.core.display.Image object>"
            ]
          },
          "metadata": {},
          "execution_count": 14
        }
      ]
    },
    {
      "cell_type": "code",
      "source": [
        "model.compile(optimizer = 'adam', loss = 'binary_crossentropy', \n",
        "              metrics = ['accuracy', tf.keras.metrics.AUC(name='auc')])"
      ],
      "metadata": {
        "id": "RDrCaSYTCw5k"
      },
      "execution_count": 15,
      "outputs": []
    },
    {
      "cell_type": "code",
      "source": [
        "history = model.fit(X_train,y_train,\n",
        "                    validation_split=0.2,\n",
        "                    batch_size=32,epochs=10,\n",
        "                    callbacks=[\n",
        "                        tf.keras.callbacks.EarlyStopping(\n",
        "                            monitor='val_accuracy',\n",
        "                            patience=2,\n",
        "                            restore_best_weights=True\n",
        "                        )\n",
        "                        \n",
        "                    ]\n",
        "                   )"
      ],
      "metadata": {
        "colab": {
          "base_uri": "https://localhost:8080/"
        },
        "id": "6b60yd95Cz8x",
        "outputId": "a8d28aab-8133-4dfa-834d-74cf4c689f8b"
      },
      "execution_count": 16,
      "outputs": [
        {
          "output_type": "stream",
          "name": "stdout",
          "text": [
            "Epoch 1/10\n",
            "410/410 [==============================] - 68s 147ms/step - loss: 0.3278 - accuracy: 0.8568 - auc: 0.9063 - val_loss: 0.2425 - val_accuracy: 0.9048 - val_auc: 0.9507\n",
            "Epoch 2/10\n",
            "410/410 [==============================] - 59s 145ms/step - loss: 0.1230 - accuracy: 0.9554 - auc: 0.9865 - val_loss: 0.3536 - val_accuracy: 0.8509 - val_auc: 0.9411\n",
            "Epoch 3/10\n",
            "410/410 [==============================] - 60s 146ms/step - loss: 0.0295 - accuracy: 0.9909 - auc: 0.9989 - val_loss: 0.4980 - val_accuracy: 0.8801 - val_auc: 0.9088\n"
          ]
        }
      ]
    },
    {
      "cell_type": "code",
      "source": [
        "score,acc,auc = model.evaluate(X_test,y_test)"
      ],
      "metadata": {
        "colab": {
          "base_uri": "https://localhost:8080/"
        },
        "id": "lL8-EkDMC4uq",
        "outputId": "eddeb8c1-a204-4db6-9386-a51ff4db9b10"
      },
      "execution_count": 17,
      "outputs": [
        {
          "output_type": "stream",
          "name": "stdout",
          "text": [
            "129/129 [==============================] - 7s 57ms/step - loss: 0.2487 - accuracy: 0.9000 - auc: 0.9467\n"
          ]
        }
      ]
    },
    {
      "cell_type": "code",
      "source": [
        "acc"
      ],
      "metadata": {
        "colab": {
          "base_uri": "https://localhost:8080/"
        },
        "id": "9lLvno27Szv_",
        "outputId": "6a7aa1bc-b116-43f0-f162-80b605d57538"
      },
      "execution_count": 18,
      "outputs": [
        {
          "output_type": "execute_result",
          "data": {
            "text/plain": [
              "0.899975597858429"
            ]
          },
          "metadata": {},
          "execution_count": 18
        }
      ]
    },
    {
      "cell_type": "code",
      "source": [
        "auc"
      ],
      "metadata": {
        "colab": {
          "base_uri": "https://localhost:8080/"
        },
        "id": "N_hw0nAWRRpl",
        "outputId": "7af915d7-2b7d-4fd1-b745-01397065f1f0"
      },
      "execution_count": 19,
      "outputs": [
        {
          "output_type": "execute_result",
          "data": {
            "text/plain": [
              "0.9467001557350159"
            ]
          },
          "metadata": {},
          "execution_count": 19
        }
      ]
    },
    {
      "cell_type": "code",
      "source": [
        "score"
      ],
      "metadata": {
        "colab": {
          "base_uri": "https://localhost:8080/"
        },
        "id": "TqO-sSdJSwdf",
        "outputId": "df5a82b7-999e-4647-8075-e3f6cb103301"
      },
      "execution_count": 20,
      "outputs": [
        {
          "output_type": "execute_result",
          "data": {
            "text/plain": [
              "0.24872103333473206"
            ]
          },
          "metadata": {},
          "execution_count": 20
        }
      ]
    }
  ]
}